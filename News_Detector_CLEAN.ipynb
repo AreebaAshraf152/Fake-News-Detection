{
 "cells": [
  {
   "cell_type": "markdown",
   "metadata": {
    "id": "J4u8HjkY9DUD"
   },
   "source": [
    "\n",
    "\n",
    "### ***News_Detection_Challenge.....!***"
   ]
  },
  {
   "cell_type": "code",
   "execution_count": 1,
   "metadata": {
    "colab": {
     "base_uri": "https://localhost:8080/",
     "height": 761,
     "referenced_widgets": [
      "4e2ac1ed506c4f2a977e2bb7e13032d7",
      "75d1b9ca58934577b0ab1037439620c5",
      "321101852c8c4fe58c8a8d3ed5c4f4dd",
      "5b6f3b0c888341e7b6d233dc09c09a0a",
      "f60f1a8aecba45f49f2adf7e2dec0357",
      "bf521068a4894e27bf39237ca4d763b7",
      "091b3b86b393466e821adb36317b0c29",
      "09f5515a20904ab3adaef5d6954a5ac6",
      "b33b870635a14c8882f8285fa0e35103",
      "268722bdb921471f9684e3bc41adc042",
      "853a0e969e4942f1b1f388f866466f29",
      "63da23bf7baa4284a6c9f5c39257d5e0",
      "3c4eaac315794203841ecf25b62ebdf0",
      "87679cfa317547d399c738d537f5ce29",
      "0deb9c5c6ae84b3dbd6f4c9b80ba6de8",
      "319e4f8ebe9d40af8d17e40ca3edf9a1",
      "684c5732d25d423b9e88f820abb99dc6",
      "a4b99f077df34d3cad8498cb68e2a2c8",
      "3a3f8051d75e4986adefd4fa9f6783be",
      "0ef7a281126547fca7663c95037706d3",
      "522f92925ba641a1b9e1a211fd9e8022",
      "8067ea6e57cd487b9abb0cbbf1d22bd9",
      "d049fcdeadba4dd28027a76dbfc834c5",
      "484c03e75292486ca4c949f3d117ac89",
      "27c9951cdeb4413d84ced65bb38375ab",
      "1b85933ab8f843ed948498b15e83fb80",
      "514a062997934dbf9d23837950bee8b0",
      "ea1ff1e2ac8a4478bd586e97d60455f5",
      "10190fcd303445ad8ffa3071a9cd805a",
      "1da45addf54f4e539e2078f77da11e68",
      "c9c3a64df6954b4d8ce9f2e96ae329f1",
      "7d084e12ff524961a36ae71aa6303859",
      "19793245f12e47cd8c9d0c8933d52a6f",
      "cd75d54202ca4889bdcc70067cbdce21",
      "ed6c3a22648948a99a86872339d2bd7c",
      "440c7e66f0a345d2a3a80a7644484da6",
      "3bc867f2b3db4594aa35155bbe42ec72",
      "7d0dea9425ca4b4d9630fa34591dd9a8",
      "11078259b9384f3cb4d4da21215b2749",
      "65a54a70afd24f29a1cae2205c0e0dc7",
      "ad54c60a38c14f24898dfc48234729c9",
      "d000bed973674df9ba57b04abd02e9eb",
      "bad266efaa2a4ee78885646f451cdd95",
      "46f67662b3a64d9ba542223bbfd7f84d",
      "0db38a9e0ff34b6a98e510399c847e26",
      "2cbd0204985d43959f077f18cb72dfaf",
      "46dc2d4dfddd465e9611624194dcc2a5",
      "b25d901bf95145189a91ecc9f97e823d",
      "22404c5088334c9989929acef283567c",
      "96a973385bb44c13aaccefb2d766b714",
      "5daa4183a90549f5b80eba73426ee87a",
      "e427f1804a31457eb3dd95cd10ad7b14",
      "88811c01e0264d27875aed9095701983",
      "c96ad14f6f1942378d193bdf1ff7d5df",
      "75fca66b59274c65a9c42fd0e9b3f136",
      "10fc5676ca2f4f7599ab1af304a5eb2b",
      "ee6a6718c6224ad59bb59d8d421389de",
      "615aa74384364da3b0fe8624baf60500",
      "209c232462a74347adf4ef9ad34e1f19",
      "700d2aa379264f5aa4975c38ff6da7da",
      "2bcfb276afe74033a73954d604c21610",
      "a6e2c546a8fb49c198b6d3f061ab4211",
      "f6411872c0de4fae8c3132b083129b2e",
      "046c54c0dd8443ffa645857a1ca0e170",
      "258a33cf408d4dd991aaa272e17072fe",
      "db47074eabab4e66bac4dc516b726a6c",
      "314d4eadb91a4424a13d5cf99bc83633",
      "c110428433f748af87a9a6329272bf67",
      "ba4daf19d5f848b59e2add4714ed0971",
      "db5089a503534cc7ad68d6fec4bdb133",
      "b89ca2b4377d4a6fa3850ed93da863b2",
      "a664bacb24ce447d81c448bd9243245d",
      "a0de2b1f901e4f8f8c2203c2daa7cd76",
      "05039621f6194692961f4e5ced88d8be",
      "042c77e2c5cd4d65991c7a9c04edaa24",
      "c1399408cc154f58b8f6a38a2a9af5d6",
      "523516b4e22248f3b199ba76d5bf1112",
      "9c554ab8adf74345aed00647252e0064",
      "23a8a48345ae4c8eb89f88866d8ac27f",
      "776054fe99ec4590ba6b6116a3059932",
      "8b4b9809389a432b897ae93ca8b48be6",
      "e3bef8f520754f659b9978ef19238ea4",
      "e211a3436c9941618d9650d1c5d9fa80",
      "c585ec7fbc924d14b0d8e24aa36833e3",
      "0d6f0d422e20409a96949bea64235612",
      "70637c142a314b0c97b58ebce81f7eaa",
      "64fdd956a0ce4dbf800d05e14c868745",
      "e65b24d9686344a6aef664781e07ed7c"
     ]
    },
    "id": "Jkg8LsFEAJcS",
    "outputId": "f20f24b0-5a43-4bde-baf6-ef785c684c90"
   },
   "outputs": [
    {
     "name": "stdout",
     "output_type": "stream",
     "text": [
      "Requirement already satisfied: transformers in /usr/local/lib/python3.11/dist-packages (4.54.0)\n",
      "Requirement already satisfied: filelock in /usr/local/lib/python3.11/dist-packages (from transformers) (3.18.0)\n",
      "Requirement already satisfied: huggingface-hub<1.0,>=0.34.0 in /usr/local/lib/python3.11/dist-packages (from transformers) (0.34.1)\n",
      "Requirement already satisfied: numpy>=1.17 in /usr/local/lib/python3.11/dist-packages (from transformers) (2.0.2)\n",
      "Requirement already satisfied: packaging>=20.0 in /usr/local/lib/python3.11/dist-packages (from transformers) (25.0)\n",
      "Requirement already satisfied: pyyaml>=5.1 in /usr/local/lib/python3.11/dist-packages (from transformers) (6.0.2)\n",
      "Requirement already satisfied: regex!=2019.12.17 in /usr/local/lib/python3.11/dist-packages (from transformers) (2024.11.6)\n",
      "Requirement already satisfied: requests in /usr/local/lib/python3.11/dist-packages (from transformers) (2.32.3)\n",
      "Requirement already satisfied: tokenizers<0.22,>=0.21 in /usr/local/lib/python3.11/dist-packages (from transformers) (0.21.2)\n",
      "Requirement already satisfied: safetensors>=0.4.3 in /usr/local/lib/python3.11/dist-packages (from transformers) (0.5.3)\n",
      "Requirement already satisfied: tqdm>=4.27 in /usr/local/lib/python3.11/dist-packages (from transformers) (4.67.1)\n",
      "Requirement already satisfied: fsspec>=2023.5.0 in /usr/local/lib/python3.11/dist-packages (from huggingface-hub<1.0,>=0.34.0->transformers) (2025.3.0)\n",
      "Requirement already satisfied: typing-extensions>=3.7.4.3 in /usr/local/lib/python3.11/dist-packages (from huggingface-hub<1.0,>=0.34.0->transformers) (4.14.1)\n",
      "Requirement already satisfied: hf-xet<2.0.0,>=1.1.3 in /usr/local/lib/python3.11/dist-packages (from huggingface-hub<1.0,>=0.34.0->transformers) (1.1.5)\n",
      "Requirement already satisfied: charset-normalizer<4,>=2 in /usr/local/lib/python3.11/dist-packages (from requests->transformers) (3.4.2)\n",
      "Requirement already satisfied: idna<4,>=2.5 in /usr/local/lib/python3.11/dist-packages (from requests->transformers) (3.10)\n",
      "Requirement already satisfied: urllib3<3,>=1.21.1 in /usr/local/lib/python3.11/dist-packages (from requests->transformers) (2.5.0)\n",
      "Requirement already satisfied: certifi>=2017.4.17 in /usr/local/lib/python3.11/dist-packages (from requests->transformers) (2025.7.14)\n"
     ]
    },
    {
     "name": "stderr",
     "output_type": "stream",
     "text": [
      "/usr/local/lib/python3.11/dist-packages/huggingface_hub/utils/_auth.py:94: UserWarning: \n",
      "The secret `HF_TOKEN` does not exist in your Colab secrets.\n",
      "To authenticate with the Hugging Face Hub, create a token in your settings tab (https://huggingface.co/settings/tokens), set it as secret in your Google Colab and restart your session.\n",
      "You will be able to reuse this secret in all of your notebooks.\n",
      "Please note that authentication is recommended but still optional to access public models or datasets.\n",
      "  warnings.warn(\n"
     ]
    },
    {
     "data": {
      "application/vnd.jupyter.widget-view+json": {
       "model_id": "4e2ac1ed506c4f2a977e2bb7e13032d7",
       "version_major": 2,
       "version_minor": 0
      },
      "text/plain": [
       "config.json:   0%|          | 0.00/740 [00:00<?, ?B/s]"
      ]
     },
     "metadata": {},
     "output_type": "display_data"
    },
    {
     "data": {
      "application/vnd.jupyter.widget-view+json": {
       "model_id": "63da23bf7baa4284a6c9f5c39257d5e0",
       "version_major": 2,
       "version_minor": 0
      },
      "text/plain": [
       "pytorch_model.bin:   0%|          | 0.00/329M [00:00<?, ?B/s]"
      ]
     },
     "metadata": {},
     "output_type": "display_data"
    },
    {
     "data": {
      "application/vnd.jupyter.widget-view+json": {
       "model_id": "d049fcdeadba4dd28027a76dbfc834c5",
       "version_major": 2,
       "version_minor": 0
      },
      "text/plain": [
       "tokenizer_config.json:   0%|          | 0.00/386 [00:00<?, ?B/s]"
      ]
     },
     "metadata": {},
     "output_type": "display_data"
    },
    {
     "data": {
      "application/vnd.jupyter.widget-view+json": {
       "model_id": "cd75d54202ca4889bdcc70067cbdce21",
       "version_major": 2,
       "version_minor": 0
      },
      "text/plain": [
       "vocab.json: 0.00B [00:00, ?B/s]"
      ]
     },
     "metadata": {},
     "output_type": "display_data"
    },
    {
     "data": {
      "application/vnd.jupyter.widget-view+json": {
       "model_id": "0db38a9e0ff34b6a98e510399c847e26",
       "version_major": 2,
       "version_minor": 0
      },
      "text/plain": [
       "model.safetensors:   0%|          | 0.00/328M [00:00<?, ?B/s]"
      ]
     },
     "metadata": {},
     "output_type": "display_data"
    },
    {
     "data": {
      "application/vnd.jupyter.widget-view+json": {
       "model_id": "10fc5676ca2f4f7599ab1af304a5eb2b",
       "version_major": 2,
       "version_minor": 0
      },
      "text/plain": [
       "merges.txt: 0.00B [00:00, ?B/s]"
      ]
     },
     "metadata": {},
     "output_type": "display_data"
    },
    {
     "data": {
      "application/vnd.jupyter.widget-view+json": {
       "model_id": "314d4eadb91a4424a13d5cf99bc83633",
       "version_major": 2,
       "version_minor": 0
      },
      "text/plain": [
       "tokenizer.json: 0.00B [00:00, ?B/s]"
      ]
     },
     "metadata": {},
     "output_type": "display_data"
    },
    {
     "data": {
      "application/vnd.jupyter.widget-view+json": {
       "model_id": "9c554ab8adf74345aed00647252e0064",
       "version_major": 2,
       "version_minor": 0
      },
      "text/plain": [
       "special_tokens_map.json:   0%|          | 0.00/280 [00:00<?, ?B/s]"
      ]
     },
     "metadata": {},
     "output_type": "display_data"
    },
    {
     "name": "stderr",
     "output_type": "stream",
     "text": [
      "Device set to use cuda:0\n",
      "/usr/local/lib/python3.11/dist-packages/torch/nn/modules/module.py:1750: FutureWarning: `encoder_attention_mask` is deprecated and will be removed in version 4.55.0 for `RobertaSdpaSelfAttention.forward`.\n",
      "  return forward_call(*args, **kwargs)\n"
     ]
    }
   ],
   "source": [
    "# Install the Hugging Face Transformers Library:\n",
    "\n",
    "!pip install transformers\n",
    "\n",
    "# Import the Pipeline Function from transformers:\n",
    "\n",
    "from transformers import pipeline\n",
    "\n",
    "# Load the Fake News Detection Model:\n",
    "\n",
    "News_Detector = pipeline(\"text-classification\",model =\"vikram71198/distilroberta-base-finetuned-fake-news-detection\")\n",
    "\n",
    "# Input News Text for Testing:\n",
    "\n",
    "News = '''Minister Talal Chaudhry has asked big social media companies to help Pakistan stop terrorism. In a press talk with Minister Aqeel Malik in Islamabad, he said terrorists are using apps like WhatsApp, X (Twitter), and Facebook to spread hate and lies.\n",
    "He said these platforms must remove accounts spreading violence and stop people from making fake profiles again. He also asked them to share user details when needed. Even groups banned by the US, UK, and UN are using these sites for their messages.\n",
    "He talked about Pakistan’s National Action Plan and said it’s important to stop online terrorism too. He suggested using AI tools to find and block such accounts quickly.\n",
    "Aqeel Malik added that Pakistan has found 481 terrorist-linked accounts and reported them. He said tech companies should share user data and open offices in Pakistan to work better together.\n",
    "He said groups like Tehreek-i-Taliban Pakistan, IS-Khorasan, BLA, and BLF are still active online. They use social media to recruit and spread extremist ideas.\n",
    "Malik said the internet has become a new war zone. Pakistan is serious about fighting terrorism, both offline and online. He asked the world and tech companies to support Pakistan in stopping this danger.\n",
    "'''\n",
    "# Make Predictions:\n",
    "\n",
    "Result = News_Detector(News)\n",
    "\n",
    "# Extract Labels and Scores:\n",
    "\n",
    "label = Result[0]['label']\n",
    "score = Result[0]['score']\n",
    "\n",
    "# Translate Labels to Human_Readable Text:\n",
    "\n",
    "if label == 'LABEL_1':\n",
    "    label_text = \"Real News\"\n",
    "else:\n",
    "    label_text = \"Fake News\"\n",
    "\n"
   ]
  },
  {
   "cell_type": "markdown",
   "metadata": {
    "id": "CJwGmvLwLcFl"
   },
   "source": []
  },
  {
   "cell_type": "markdown",
   "metadata": {
    "id": "F0kzOJhF800x"
   },
   "source": [
    "# ***Final Result:***"
   ]
  },
  {
   "cell_type": "code",
   "execution_count": 2,
   "metadata": {
    "colab": {
     "base_uri": "https://localhost:8080/"
    },
    "id": "CMoyocnQC2vf",
    "outputId": "b18cbce9-9215-4f5b-df61-256867ba9164"
   },
   "outputs": [
    {
     "name": "stdout",
     "output_type": "stream",
     "text": [
      "\n",
      "***** News Prediction Result *****\n",
      "\n",
      "Prediction: Real News\n",
      "Confidence Score: 0.94\n"
     ]
    }
   ],
   "source": [
    "# Print the Final Result:\n",
    "\n",
    "print(f\"\\n***** News Prediction Result *****\\n\")\n",
    "print(f\"Prediction: {label_text}\")\n",
    "print(f\"Confidence Score: {score:.2f}\")"
   ]
  }
 ],
 "metadata": {
  "accelerator": "GPU",
  "colab": {
   "gpuType": "T4",
   "provenance": [],
   "toc_visible": true
  },
  "kernelspec": {
   "display_name": "Python 3",
   "name": "python3"
  },
  "language_info": {
   "name": "python"
  }
 },
 "nbformat": 4,
 "nbformat_minor": 0
}
